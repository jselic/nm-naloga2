{
 "cells": [
  {
   "cell_type": "code",
   "execution_count": 155,
   "id": "1ce5f8f0",
   "metadata": {},
   "outputs": [],
   "source": [
    "from scipy.special import jv\n",
    "from scipy import integrate\n",
    "import numpy as np\n",
    "import math\n",
    "from functools import partial"
   ]
  },
  {
   "cell_type": "code",
   "execution_count": 83,
   "id": "b4070dcc",
   "metadata": {},
   "outputs": [],
   "source": [
    "def internal_function(x,v):\n",
    "    return np.cos(v * np.sin(x))/(math.pi)"
   ]
  },
  {
   "cell_type": "code",
   "execution_count": 84,
   "id": "77300d6d",
   "metadata": {},
   "outputs": [
    {
     "data": {
      "text/plain": [
       "0.7651976865579666"
      ]
     },
     "execution_count": 84,
     "metadata": {},
     "output_type": "execute_result"
    }
   ],
   "source": [
    "jv(0,1)"
   ]
  },
  {
   "cell_type": "code",
   "execution_count": 85,
   "id": "898e7ccd",
   "metadata": {},
   "outputs": [],
   "source": [
    "result = integrate.quad(lambda t: (1/math.pi) * np.cos(1 * np.sin(t)),0,math.pi)"
   ]
  },
  {
   "cell_type": "code",
   "execution_count": 86,
   "id": "57555280",
   "metadata": {},
   "outputs": [
    {
     "data": {
      "text/plain": [
       "(0.7651976865579665, 7.54115760729903e-12)"
      ]
     },
     "execution_count": 86,
     "metadata": {},
     "output_type": "execute_result"
    }
   ],
   "source": [
    "result"
   ]
  },
  {
   "cell_type": "code",
   "execution_count": 87,
   "id": "15a1b8f5",
   "metadata": {},
   "outputs": [],
   "source": [
    "result1 = integrate.quad(internal_function,0,math.pi,args=(1))"
   ]
  },
  {
   "cell_type": "code",
   "execution_count": 89,
   "id": "59c6d855",
   "metadata": {},
   "outputs": [
    {
     "data": {
      "text/plain": [
       "0.7651976865579665"
      ]
     },
     "execution_count": 89,
     "metadata": {},
     "output_type": "execute_result"
    }
   ],
   "source": [
    "result1[0]"
   ]
  },
  {
   "cell_type": "code",
   "execution_count": 140,
   "id": "165fe7af",
   "metadata": {},
   "outputs": [],
   "source": [
    "def trapezoid_equidistant(function,bounds,h=30):\n",
    "    #Calculate points\n",
    "    points, distance = np.linspace(bounds[0],bounds[1],h,retstep=True)\n",
    "    #Return sum\n",
    "    return distance/2 * np.sum([function(points[i])+function(points[i+1]) for i in range(len(points)-1)])"
   ]
  },
  {
   "cell_type": "code",
   "execution_count": 150,
   "id": "d353ac2d",
   "metadata": {},
   "outputs": [],
   "source": [
    "def bessel_0(x):\n",
    "    return trapezoid_equidistant(partial(internal_function,v=x),(0,math.pi),h=1000)"
   ]
  },
  {
   "cell_type": "code",
   "execution_count": 151,
   "id": "7869fa39",
   "metadata": {},
   "outputs": [
    {
     "data": {
      "text/plain": [
       "0.7651976865579665"
      ]
     },
     "execution_count": 151,
     "metadata": {},
     "output_type": "execute_result"
    }
   ],
   "source": [
    "bessel_0(1)"
   ]
  },
  {
   "cell_type": "code",
   "execution_count": 152,
   "id": "30ec5901",
   "metadata": {},
   "outputs": [
    {
     "data": {
      "text/plain": [
       "0.11156465824468609"
      ]
     },
     "execution_count": 152,
     "metadata": {},
     "output_type": "execute_result"
    }
   ],
   "source": [
    "jv(0,51)"
   ]
  },
  {
   "cell_type": "code",
   "execution_count": 153,
   "id": "15893739",
   "metadata": {},
   "outputs": [
    {
     "data": {
      "text/plain": [
       "0.11156465824468606"
      ]
     },
     "execution_count": 153,
     "metadata": {},
     "output_type": "execute_result"
    }
   ],
   "source": [
    "bessel_0(51)"
   ]
  },
  {
   "cell_type": "code",
   "execution_count": 173,
   "id": "104ae99e",
   "metadata": {},
   "outputs": [],
   "source": [
    "def test_function(n=1000):\n",
    "    gt = []\n",
    "    computed = []\n",
    "    for _ in range(n):\n",
    "        rint = np.random.randint(0,200)\n",
    "        gt.append(jv(0,rint))\n",
    "        computed.append(bessel_0(rint))\n",
    "    return gt, computed"
   ]
  },
  {
   "cell_type": "code",
   "execution_count": 174,
   "id": "8ed88190",
   "metadata": {},
   "outputs": [],
   "source": [
    "a = test_function()"
   ]
  },
  {
   "cell_type": "code",
   "execution_count": 175,
   "id": "39e5a825",
   "metadata": {},
   "outputs": [
    {
     "data": {
      "text/plain": [
       "True"
      ]
     },
     "execution_count": 175,
     "metadata": {},
     "output_type": "execute_result"
    }
   ],
   "source": [
    "np.all(np.isclose(a[0],a[1],atol=1e-10))"
   ]
  },
  {
   "cell_type": "code",
   "execution_count": null,
   "id": "9b7a773f",
   "metadata": {},
   "outputs": [],
   "source": []
  }
 ],
 "metadata": {
  "kernelspec": {
   "display_name": "Python 3 (ipykernel)",
   "language": "python",
   "name": "python3"
  },
  "language_info": {
   "codemirror_mode": {
    "name": "ipython",
    "version": 3
   },
   "file_extension": ".py",
   "mimetype": "text/x-python",
   "name": "python",
   "nbconvert_exporter": "python",
   "pygments_lexer": "ipython3",
   "version": "3.9.9"
  }
 },
 "nbformat": 4,
 "nbformat_minor": 5
}
